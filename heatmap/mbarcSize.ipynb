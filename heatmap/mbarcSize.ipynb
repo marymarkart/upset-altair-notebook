{
 "cells": [
  {
   "cell_type": "code",
   "execution_count": 3,
   "metadata": {},
   "outputs": [],
   "source": [
    "import altair as alt\n",
    "import pandas as pd"
   ]
  },
  {
   "cell_type": "markdown",
   "metadata": {},
   "source": [
    "# Data\n",
    "## Input File Format\n",
    "The input file format is identical to \"Options 1: File\" in UpSetR-shiny (https://github.com/hms-dbmi/UpSetR-shiny)\n",
    "\n",
    "- Columns are `attribute 1, attribute 2, ... attribute N, set 1, set2, ..., set M` where `set` columns contain either `1` or `0`, `1` indicating the '⬤' representation in UpSet)"
   ]
  },
  {
   "cell_type": "markdown",
   "metadata": {},
   "source": [
    "# Visualization\n",
    "#### The UpSetAltair visualizations contain three main views: \n",
    "\n",
    "(1) **vertical bar chart** on the top showing the cardinality of each intersecting set;\n",
    "\n",
    "(2) **matrix view** on the bottom-left showing the intersecting set;\n",
    "\n",
    "~~(3) **horizontal bar chart** on the bottom-right showing the cardinality of each set.~~"
   ]
  },
  {
   "cell_type": "markdown",
   "metadata": {},
   "source": [
    "# Process data"
   ]
  },
  {
   "cell_type": "markdown",
   "metadata": {},
   "source": [
    "DeLUCS hit and misses are from c1normDeLUCS.png\n",
    "Also, [SJSU - Ebay slides](https://docs.google.com/presentation/d/1_dlGqlGHNXgbPxo1PruNfi8C1a-fcNqzBPsIBoeHA9I/edit?usp=sharing) are being used to double check hit and misses\n",
    "\n",
    "I am plotting mbarc genome size so slide 29 is being used\n"
   ]
  },
  {
   "cell_type": "code",
   "execution_count": 4,
   "metadata": {},
   "outputs": [
    {
     "ename": "FileNotFoundError",
     "evalue": "[Errno 2] No such file or directory: 'KNMI_20200218.txt'",
     "output_type": "error",
     "traceback": [
      "\u001b[0;31m---------------------------------------------------------------------------\u001b[0m",
      "\u001b[0;31mFileNotFoundError\u001b[0m                         Traceback (most recent call last)",
      "Input \u001b[0;32mIn [4]\u001b[0m, in \u001b[0;36m<cell line: 13>\u001b[0;34m()\u001b[0m\n\u001b[1;32m      5\u001b[0m \u001b[38;5;28;01mdef\u001b[39;00m \u001b[38;5;21mread_knmi_data\u001b[39m(filename, names):\n\u001b[1;32m      6\u001b[0m     \u001b[38;5;28;01mreturn\u001b[39;00m pd\u001b[38;5;241m.\u001b[39mread_csv(filename, \n\u001b[1;32m      7\u001b[0m                        comment\u001b[38;5;241m=\u001b[39m\u001b[38;5;124m'\u001b[39m\u001b[38;5;124m#\u001b[39m\u001b[38;5;124m'\u001b[39m,               \u001b[38;5;66;03m# Skip all comments\u001b[39;00m\n\u001b[1;32m      8\u001b[0m                        header\u001b[38;5;241m=\u001b[39m\u001b[38;5;28;01mNone\u001b[39;00m,               \u001b[38;5;66;03m# The text file contains no header that can be read\u001b[39;00m\n\u001b[1;32m      9\u001b[0m                        names\u001b[38;5;241m=\u001b[39mnames,               \u001b[38;5;66;03m# Set the column names\u001b[39;00m\n\u001b[1;32m     10\u001b[0m                        skipinitialspace\u001b[38;5;241m=\u001b[39m\u001b[38;5;28;01mTrue\u001b[39;00m,     \u001b[38;5;66;03m# Fix the trailing spaces after the ','-separator\u001b[39;00m\n\u001b[1;32m     11\u001b[0m                        parse_dates\u001b[38;5;241m=\u001b[39m[\u001b[38;5;241m1\u001b[39m])           \u001b[38;5;66;03m# Let pandas try and transform the second column to a proper datatime object\u001b[39;00m\n\u001b[0;32m---> 13\u001b[0m knmi_data \u001b[38;5;241m=\u001b[39m \u001b[43mread_knmi_data\u001b[49m\u001b[43m(\u001b[49m\u001b[38;5;124;43m'\u001b[39;49m\u001b[38;5;124;43mKNMI_20200218.txt\u001b[39;49m\u001b[38;5;124;43m'\u001b[39;49m\u001b[43m,\u001b[49m\u001b[43m \u001b[49m\n\u001b[1;32m     14\u001b[0m \u001b[43m                           \u001b[49m\u001b[43mnames\u001b[49m\u001b[38;5;241;43m=\u001b[39;49m\u001b[43m[\u001b[49m\u001b[38;5;124;43m'\u001b[39;49m\u001b[38;5;124;43mstation\u001b[39;49m\u001b[38;5;124;43m'\u001b[39;49m\u001b[43m,\u001b[49m\u001b[43m \u001b[49m\u001b[38;5;124;43m'\u001b[39;49m\u001b[38;5;124;43mdatum\u001b[39;49m\u001b[38;5;124;43m'\u001b[39;49m\u001b[43m,\u001b[49m\u001b[43m \u001b[49m\u001b[38;5;124;43m'\u001b[39;49m\u001b[38;5;124;43mWsp_avg\u001b[39;49m\u001b[38;5;124;43m'\u001b[39;49m\u001b[43m,\u001b[49m\u001b[43m \u001b[49m\u001b[38;5;124;43m'\u001b[39;49m\u001b[38;5;124;43mWsp_1hravg\u001b[39;49m\u001b[38;5;124;43m'\u001b[39;49m\u001b[43m,\u001b[49m\u001b[43m \u001b[49m\u001b[38;5;124;43m'\u001b[39;49m\u001b[38;5;124;43mWsp_max\u001b[39;49m\u001b[38;5;124;43m'\u001b[39;49m\u001b[43m,\u001b[49m\u001b[43m \u001b[49m\n\u001b[1;32m     15\u001b[0m \u001b[43m                                                      \u001b[49m\u001b[38;5;124;43m'\u001b[39;49m\u001b[38;5;124;43mT_avg\u001b[39;49m\u001b[38;5;124;43m'\u001b[39;49m\u001b[43m,\u001b[49m\u001b[43m \u001b[49m\u001b[38;5;124;43m'\u001b[39;49m\u001b[38;5;124;43mT_min\u001b[39;49m\u001b[38;5;124;43m'\u001b[39;49m\u001b[43m,\u001b[49m\u001b[43m \u001b[49m\u001b[38;5;124;43m'\u001b[39;49m\u001b[38;5;124;43mT_max\u001b[39;49m\u001b[38;5;124;43m'\u001b[39;49m\u001b[43m,\u001b[49m\u001b[43m \u001b[49m\n\u001b[1;32m     16\u001b[0m \u001b[43m                                                      \u001b[49m\u001b[38;5;124;43m'\u001b[39;49m\u001b[38;5;124;43mSol_duration\u001b[39;49m\u001b[38;5;124;43m'\u001b[39;49m\u001b[43m,\u001b[49m\u001b[43m \u001b[49m\u001b[38;5;124;43m'\u001b[39;49m\u001b[38;5;124;43mGlobal_radiation\u001b[39;49m\u001b[38;5;124;43m'\u001b[39;49m\u001b[43m,\u001b[49m\u001b[43m \u001b[49m\u001b[38;5;124;43m'\u001b[39;49m\u001b[38;5;124;43mPrecip_total\u001b[39;49m\u001b[38;5;124;43m'\u001b[39;49m\u001b[43m,\u001b[49m\n\u001b[1;32m     17\u001b[0m \u001b[43m                                                      \u001b[49m\u001b[38;5;124;43m'\u001b[39;49m\u001b[38;5;124;43mPrecip_hrmax\u001b[39;49m\u001b[38;5;124;43m'\u001b[39;49m\u001b[43m,\u001b[49m\u001b[43m \u001b[49m\u001b[38;5;124;43m'\u001b[39;49m\u001b[38;5;124;43mRel_humid\u001b[39;49m\u001b[38;5;124;43m'\u001b[39;49m\u001b[43m,\u001b[49m\u001b[43m \u001b[49m\u001b[38;5;124;43m'\u001b[39;49m\u001b[38;5;124;43mEvaporation\u001b[39;49m\u001b[38;5;124;43m'\u001b[39;49m\u001b[43m]\u001b[49m\u001b[43m)\u001b[49m\n\u001b[1;32m     18\u001b[0m knmi_data\u001b[38;5;241m.\u001b[39mhead()\n",
      "Input \u001b[0;32mIn [4]\u001b[0m, in \u001b[0;36mread_knmi_data\u001b[0;34m(filename, names)\u001b[0m\n\u001b[1;32m      5\u001b[0m \u001b[38;5;28;01mdef\u001b[39;00m \u001b[38;5;21mread_knmi_data\u001b[39m(filename, names):\n\u001b[0;32m----> 6\u001b[0m     \u001b[38;5;28;01mreturn\u001b[39;00m \u001b[43mpd\u001b[49m\u001b[38;5;241;43m.\u001b[39;49m\u001b[43mread_csv\u001b[49m\u001b[43m(\u001b[49m\u001b[43mfilename\u001b[49m\u001b[43m,\u001b[49m\u001b[43m \u001b[49m\n\u001b[1;32m      7\u001b[0m \u001b[43m                       \u001b[49m\u001b[43mcomment\u001b[49m\u001b[38;5;241;43m=\u001b[39;49m\u001b[38;5;124;43m'\u001b[39;49m\u001b[38;5;124;43m#\u001b[39;49m\u001b[38;5;124;43m'\u001b[39;49m\u001b[43m,\u001b[49m\u001b[43m               \u001b[49m\u001b[38;5;66;43;03m# Skip all comments\u001b[39;49;00m\n\u001b[1;32m      8\u001b[0m \u001b[43m                       \u001b[49m\u001b[43mheader\u001b[49m\u001b[38;5;241;43m=\u001b[39;49m\u001b[38;5;28;43;01mNone\u001b[39;49;00m\u001b[43m,\u001b[49m\u001b[43m               \u001b[49m\u001b[38;5;66;43;03m# The text file contains no header that can be read\u001b[39;49;00m\n\u001b[1;32m      9\u001b[0m \u001b[43m                       \u001b[49m\u001b[43mnames\u001b[49m\u001b[38;5;241;43m=\u001b[39;49m\u001b[43mnames\u001b[49m\u001b[43m,\u001b[49m\u001b[43m               \u001b[49m\u001b[38;5;66;43;03m# Set the column names\u001b[39;49;00m\n\u001b[1;32m     10\u001b[0m \u001b[43m                       \u001b[49m\u001b[43mskipinitialspace\u001b[49m\u001b[38;5;241;43m=\u001b[39;49m\u001b[38;5;28;43;01mTrue\u001b[39;49;00m\u001b[43m,\u001b[49m\u001b[43m     \u001b[49m\u001b[38;5;66;43;03m# Fix the trailing spaces after the ','-separator\u001b[39;49;00m\n\u001b[1;32m     11\u001b[0m \u001b[43m                       \u001b[49m\u001b[43mparse_dates\u001b[49m\u001b[38;5;241;43m=\u001b[39;49m\u001b[43m[\u001b[49m\u001b[38;5;241;43m1\u001b[39;49m\u001b[43m]\u001b[49m\u001b[43m)\u001b[49m\n",
      "File \u001b[0;32m~/opt/anaconda3/envs/upset-altair-env/lib/python3.10/site-packages/pandas/util/_decorators.py:311\u001b[0m, in \u001b[0;36mdeprecate_nonkeyword_arguments.<locals>.decorate.<locals>.wrapper\u001b[0;34m(*args, **kwargs)\u001b[0m\n\u001b[1;32m    305\u001b[0m \u001b[38;5;28;01mif\u001b[39;00m \u001b[38;5;28mlen\u001b[39m(args) \u001b[38;5;241m>\u001b[39m num_allow_args:\n\u001b[1;32m    306\u001b[0m     warnings\u001b[38;5;241m.\u001b[39mwarn(\n\u001b[1;32m    307\u001b[0m         msg\u001b[38;5;241m.\u001b[39mformat(arguments\u001b[38;5;241m=\u001b[39marguments),\n\u001b[1;32m    308\u001b[0m         \u001b[38;5;167;01mFutureWarning\u001b[39;00m,\n\u001b[1;32m    309\u001b[0m         stacklevel\u001b[38;5;241m=\u001b[39mstacklevel,\n\u001b[1;32m    310\u001b[0m     )\n\u001b[0;32m--> 311\u001b[0m \u001b[38;5;28;01mreturn\u001b[39;00m \u001b[43mfunc\u001b[49m\u001b[43m(\u001b[49m\u001b[38;5;241;43m*\u001b[39;49m\u001b[43margs\u001b[49m\u001b[43m,\u001b[49m\u001b[43m \u001b[49m\u001b[38;5;241;43m*\u001b[39;49m\u001b[38;5;241;43m*\u001b[39;49m\u001b[43mkwargs\u001b[49m\u001b[43m)\u001b[49m\n",
      "File \u001b[0;32m~/opt/anaconda3/envs/upset-altair-env/lib/python3.10/site-packages/pandas/io/parsers/readers.py:680\u001b[0m, in \u001b[0;36mread_csv\u001b[0;34m(filepath_or_buffer, sep, delimiter, header, names, index_col, usecols, squeeze, prefix, mangle_dupe_cols, dtype, engine, converters, true_values, false_values, skipinitialspace, skiprows, skipfooter, nrows, na_values, keep_default_na, na_filter, verbose, skip_blank_lines, parse_dates, infer_datetime_format, keep_date_col, date_parser, dayfirst, cache_dates, iterator, chunksize, compression, thousands, decimal, lineterminator, quotechar, quoting, doublequote, escapechar, comment, encoding, encoding_errors, dialect, error_bad_lines, warn_bad_lines, on_bad_lines, delim_whitespace, low_memory, memory_map, float_precision, storage_options)\u001b[0m\n\u001b[1;32m    665\u001b[0m kwds_defaults \u001b[38;5;241m=\u001b[39m _refine_defaults_read(\n\u001b[1;32m    666\u001b[0m     dialect,\n\u001b[1;32m    667\u001b[0m     delimiter,\n\u001b[0;32m   (...)\u001b[0m\n\u001b[1;32m    676\u001b[0m     defaults\u001b[38;5;241m=\u001b[39m{\u001b[38;5;124m\"\u001b[39m\u001b[38;5;124mdelimiter\u001b[39m\u001b[38;5;124m\"\u001b[39m: \u001b[38;5;124m\"\u001b[39m\u001b[38;5;124m,\u001b[39m\u001b[38;5;124m\"\u001b[39m},\n\u001b[1;32m    677\u001b[0m )\n\u001b[1;32m    678\u001b[0m kwds\u001b[38;5;241m.\u001b[39mupdate(kwds_defaults)\n\u001b[0;32m--> 680\u001b[0m \u001b[38;5;28;01mreturn\u001b[39;00m \u001b[43m_read\u001b[49m\u001b[43m(\u001b[49m\u001b[43mfilepath_or_buffer\u001b[49m\u001b[43m,\u001b[49m\u001b[43m \u001b[49m\u001b[43mkwds\u001b[49m\u001b[43m)\u001b[49m\n",
      "File \u001b[0;32m~/opt/anaconda3/envs/upset-altair-env/lib/python3.10/site-packages/pandas/io/parsers/readers.py:575\u001b[0m, in \u001b[0;36m_read\u001b[0;34m(filepath_or_buffer, kwds)\u001b[0m\n\u001b[1;32m    572\u001b[0m _validate_names(kwds\u001b[38;5;241m.\u001b[39mget(\u001b[38;5;124m\"\u001b[39m\u001b[38;5;124mnames\u001b[39m\u001b[38;5;124m\"\u001b[39m, \u001b[38;5;28;01mNone\u001b[39;00m))\n\u001b[1;32m    574\u001b[0m \u001b[38;5;66;03m# Create the parser.\u001b[39;00m\n\u001b[0;32m--> 575\u001b[0m parser \u001b[38;5;241m=\u001b[39m \u001b[43mTextFileReader\u001b[49m\u001b[43m(\u001b[49m\u001b[43mfilepath_or_buffer\u001b[49m\u001b[43m,\u001b[49m\u001b[43m \u001b[49m\u001b[38;5;241;43m*\u001b[39;49m\u001b[38;5;241;43m*\u001b[39;49m\u001b[43mkwds\u001b[49m\u001b[43m)\u001b[49m\n\u001b[1;32m    577\u001b[0m \u001b[38;5;28;01mif\u001b[39;00m chunksize \u001b[38;5;129;01mor\u001b[39;00m iterator:\n\u001b[1;32m    578\u001b[0m     \u001b[38;5;28;01mreturn\u001b[39;00m parser\n",
      "File \u001b[0;32m~/opt/anaconda3/envs/upset-altair-env/lib/python3.10/site-packages/pandas/io/parsers/readers.py:934\u001b[0m, in \u001b[0;36mTextFileReader.__init__\u001b[0;34m(self, f, engine, **kwds)\u001b[0m\n\u001b[1;32m    931\u001b[0m     \u001b[38;5;28mself\u001b[39m\u001b[38;5;241m.\u001b[39moptions[\u001b[38;5;124m\"\u001b[39m\u001b[38;5;124mhas_index_names\u001b[39m\u001b[38;5;124m\"\u001b[39m] \u001b[38;5;241m=\u001b[39m kwds[\u001b[38;5;124m\"\u001b[39m\u001b[38;5;124mhas_index_names\u001b[39m\u001b[38;5;124m\"\u001b[39m]\n\u001b[1;32m    933\u001b[0m \u001b[38;5;28mself\u001b[39m\u001b[38;5;241m.\u001b[39mhandles: IOHandles \u001b[38;5;241m|\u001b[39m \u001b[38;5;28;01mNone\u001b[39;00m \u001b[38;5;241m=\u001b[39m \u001b[38;5;28;01mNone\u001b[39;00m\n\u001b[0;32m--> 934\u001b[0m \u001b[38;5;28mself\u001b[39m\u001b[38;5;241m.\u001b[39m_engine \u001b[38;5;241m=\u001b[39m \u001b[38;5;28;43mself\u001b[39;49m\u001b[38;5;241;43m.\u001b[39;49m\u001b[43m_make_engine\u001b[49m\u001b[43m(\u001b[49m\u001b[43mf\u001b[49m\u001b[43m,\u001b[49m\u001b[43m \u001b[49m\u001b[38;5;28;43mself\u001b[39;49m\u001b[38;5;241;43m.\u001b[39;49m\u001b[43mengine\u001b[49m\u001b[43m)\u001b[49m\n",
      "File \u001b[0;32m~/opt/anaconda3/envs/upset-altair-env/lib/python3.10/site-packages/pandas/io/parsers/readers.py:1218\u001b[0m, in \u001b[0;36mTextFileReader._make_engine\u001b[0;34m(self, f, engine)\u001b[0m\n\u001b[1;32m   1214\u001b[0m     mode \u001b[38;5;241m=\u001b[39m \u001b[38;5;124m\"\u001b[39m\u001b[38;5;124mrb\u001b[39m\u001b[38;5;124m\"\u001b[39m\n\u001b[1;32m   1215\u001b[0m \u001b[38;5;66;03m# error: No overload variant of \"get_handle\" matches argument types\u001b[39;00m\n\u001b[1;32m   1216\u001b[0m \u001b[38;5;66;03m# \"Union[str, PathLike[str], ReadCsvBuffer[bytes], ReadCsvBuffer[str]]\"\u001b[39;00m\n\u001b[1;32m   1217\u001b[0m \u001b[38;5;66;03m# , \"str\", \"bool\", \"Any\", \"Any\", \"Any\", \"Any\", \"Any\"\u001b[39;00m\n\u001b[0;32m-> 1218\u001b[0m \u001b[38;5;28mself\u001b[39m\u001b[38;5;241m.\u001b[39mhandles \u001b[38;5;241m=\u001b[39m \u001b[43mget_handle\u001b[49m\u001b[43m(\u001b[49m\u001b[43m  \u001b[49m\u001b[38;5;66;43;03m# type: ignore[call-overload]\u001b[39;49;00m\n\u001b[1;32m   1219\u001b[0m \u001b[43m    \u001b[49m\u001b[43mf\u001b[49m\u001b[43m,\u001b[49m\n\u001b[1;32m   1220\u001b[0m \u001b[43m    \u001b[49m\u001b[43mmode\u001b[49m\u001b[43m,\u001b[49m\n\u001b[1;32m   1221\u001b[0m \u001b[43m    \u001b[49m\u001b[43mencoding\u001b[49m\u001b[38;5;241;43m=\u001b[39;49m\u001b[38;5;28;43mself\u001b[39;49m\u001b[38;5;241;43m.\u001b[39;49m\u001b[43moptions\u001b[49m\u001b[38;5;241;43m.\u001b[39;49m\u001b[43mget\u001b[49m\u001b[43m(\u001b[49m\u001b[38;5;124;43m\"\u001b[39;49m\u001b[38;5;124;43mencoding\u001b[39;49m\u001b[38;5;124;43m\"\u001b[39;49m\u001b[43m,\u001b[49m\u001b[43m \u001b[49m\u001b[38;5;28;43;01mNone\u001b[39;49;00m\u001b[43m)\u001b[49m\u001b[43m,\u001b[49m\n\u001b[1;32m   1222\u001b[0m \u001b[43m    \u001b[49m\u001b[43mcompression\u001b[49m\u001b[38;5;241;43m=\u001b[39;49m\u001b[38;5;28;43mself\u001b[39;49m\u001b[38;5;241;43m.\u001b[39;49m\u001b[43moptions\u001b[49m\u001b[38;5;241;43m.\u001b[39;49m\u001b[43mget\u001b[49m\u001b[43m(\u001b[49m\u001b[38;5;124;43m\"\u001b[39;49m\u001b[38;5;124;43mcompression\u001b[39;49m\u001b[38;5;124;43m\"\u001b[39;49m\u001b[43m,\u001b[49m\u001b[43m \u001b[49m\u001b[38;5;28;43;01mNone\u001b[39;49;00m\u001b[43m)\u001b[49m\u001b[43m,\u001b[49m\n\u001b[1;32m   1223\u001b[0m \u001b[43m    \u001b[49m\u001b[43mmemory_map\u001b[49m\u001b[38;5;241;43m=\u001b[39;49m\u001b[38;5;28;43mself\u001b[39;49m\u001b[38;5;241;43m.\u001b[39;49m\u001b[43moptions\u001b[49m\u001b[38;5;241;43m.\u001b[39;49m\u001b[43mget\u001b[49m\u001b[43m(\u001b[49m\u001b[38;5;124;43m\"\u001b[39;49m\u001b[38;5;124;43mmemory_map\u001b[39;49m\u001b[38;5;124;43m\"\u001b[39;49m\u001b[43m,\u001b[49m\u001b[43m \u001b[49m\u001b[38;5;28;43;01mFalse\u001b[39;49;00m\u001b[43m)\u001b[49m\u001b[43m,\u001b[49m\n\u001b[1;32m   1224\u001b[0m \u001b[43m    \u001b[49m\u001b[43mis_text\u001b[49m\u001b[38;5;241;43m=\u001b[39;49m\u001b[43mis_text\u001b[49m\u001b[43m,\u001b[49m\n\u001b[1;32m   1225\u001b[0m \u001b[43m    \u001b[49m\u001b[43merrors\u001b[49m\u001b[38;5;241;43m=\u001b[39;49m\u001b[38;5;28;43mself\u001b[39;49m\u001b[38;5;241;43m.\u001b[39;49m\u001b[43moptions\u001b[49m\u001b[38;5;241;43m.\u001b[39;49m\u001b[43mget\u001b[49m\u001b[43m(\u001b[49m\u001b[38;5;124;43m\"\u001b[39;49m\u001b[38;5;124;43mencoding_errors\u001b[39;49m\u001b[38;5;124;43m\"\u001b[39;49m\u001b[43m,\u001b[49m\u001b[43m \u001b[49m\u001b[38;5;124;43m\"\u001b[39;49m\u001b[38;5;124;43mstrict\u001b[39;49m\u001b[38;5;124;43m\"\u001b[39;49m\u001b[43m)\u001b[49m\u001b[43m,\u001b[49m\n\u001b[1;32m   1226\u001b[0m \u001b[43m    \u001b[49m\u001b[43mstorage_options\u001b[49m\u001b[38;5;241;43m=\u001b[39;49m\u001b[38;5;28;43mself\u001b[39;49m\u001b[38;5;241;43m.\u001b[39;49m\u001b[43moptions\u001b[49m\u001b[38;5;241;43m.\u001b[39;49m\u001b[43mget\u001b[49m\u001b[43m(\u001b[49m\u001b[38;5;124;43m\"\u001b[39;49m\u001b[38;5;124;43mstorage_options\u001b[39;49m\u001b[38;5;124;43m\"\u001b[39;49m\u001b[43m,\u001b[49m\u001b[43m \u001b[49m\u001b[38;5;28;43;01mNone\u001b[39;49;00m\u001b[43m)\u001b[49m\u001b[43m,\u001b[49m\n\u001b[1;32m   1227\u001b[0m \u001b[43m\u001b[49m\u001b[43m)\u001b[49m\n\u001b[1;32m   1228\u001b[0m \u001b[38;5;28;01massert\u001b[39;00m \u001b[38;5;28mself\u001b[39m\u001b[38;5;241m.\u001b[39mhandles \u001b[38;5;129;01mis\u001b[39;00m \u001b[38;5;129;01mnot\u001b[39;00m \u001b[38;5;28;01mNone\u001b[39;00m\n\u001b[1;32m   1229\u001b[0m f \u001b[38;5;241m=\u001b[39m \u001b[38;5;28mself\u001b[39m\u001b[38;5;241m.\u001b[39mhandles\u001b[38;5;241m.\u001b[39mhandle\n",
      "File \u001b[0;32m~/opt/anaconda3/envs/upset-altair-env/lib/python3.10/site-packages/pandas/io/common.py:786\u001b[0m, in \u001b[0;36mget_handle\u001b[0;34m(path_or_buf, mode, encoding, compression, memory_map, is_text, errors, storage_options)\u001b[0m\n\u001b[1;32m    781\u001b[0m \u001b[38;5;28;01melif\u001b[39;00m \u001b[38;5;28misinstance\u001b[39m(handle, \u001b[38;5;28mstr\u001b[39m):\n\u001b[1;32m    782\u001b[0m     \u001b[38;5;66;03m# Check whether the filename is to be opened in binary mode.\u001b[39;00m\n\u001b[1;32m    783\u001b[0m     \u001b[38;5;66;03m# Binary mode does not support 'encoding' and 'newline'.\u001b[39;00m\n\u001b[1;32m    784\u001b[0m     \u001b[38;5;28;01mif\u001b[39;00m ioargs\u001b[38;5;241m.\u001b[39mencoding \u001b[38;5;129;01mand\u001b[39;00m \u001b[38;5;124m\"\u001b[39m\u001b[38;5;124mb\u001b[39m\u001b[38;5;124m\"\u001b[39m \u001b[38;5;129;01mnot\u001b[39;00m \u001b[38;5;129;01min\u001b[39;00m ioargs\u001b[38;5;241m.\u001b[39mmode:\n\u001b[1;32m    785\u001b[0m         \u001b[38;5;66;03m# Encoding\u001b[39;00m\n\u001b[0;32m--> 786\u001b[0m         handle \u001b[38;5;241m=\u001b[39m \u001b[38;5;28;43mopen\u001b[39;49m\u001b[43m(\u001b[49m\n\u001b[1;32m    787\u001b[0m \u001b[43m            \u001b[49m\u001b[43mhandle\u001b[49m\u001b[43m,\u001b[49m\n\u001b[1;32m    788\u001b[0m \u001b[43m            \u001b[49m\u001b[43mioargs\u001b[49m\u001b[38;5;241;43m.\u001b[39;49m\u001b[43mmode\u001b[49m\u001b[43m,\u001b[49m\n\u001b[1;32m    789\u001b[0m \u001b[43m            \u001b[49m\u001b[43mencoding\u001b[49m\u001b[38;5;241;43m=\u001b[39;49m\u001b[43mioargs\u001b[49m\u001b[38;5;241;43m.\u001b[39;49m\u001b[43mencoding\u001b[49m\u001b[43m,\u001b[49m\n\u001b[1;32m    790\u001b[0m \u001b[43m            \u001b[49m\u001b[43merrors\u001b[49m\u001b[38;5;241;43m=\u001b[39;49m\u001b[43merrors\u001b[49m\u001b[43m,\u001b[49m\n\u001b[1;32m    791\u001b[0m \u001b[43m            \u001b[49m\u001b[43mnewline\u001b[49m\u001b[38;5;241;43m=\u001b[39;49m\u001b[38;5;124;43m\"\u001b[39;49m\u001b[38;5;124;43m\"\u001b[39;49m\u001b[43m,\u001b[49m\n\u001b[1;32m    792\u001b[0m \u001b[43m        \u001b[49m\u001b[43m)\u001b[49m\n\u001b[1;32m    793\u001b[0m     \u001b[38;5;28;01melse\u001b[39;00m:\n\u001b[1;32m    794\u001b[0m         \u001b[38;5;66;03m# Binary mode\u001b[39;00m\n\u001b[1;32m    795\u001b[0m         handle \u001b[38;5;241m=\u001b[39m \u001b[38;5;28mopen\u001b[39m(handle, ioargs\u001b[38;5;241m.\u001b[39mmode)\n",
      "\u001b[0;31mFileNotFoundError\u001b[0m: [Errno 2] No such file or directory: 'KNMI_20200218.txt'"
     ]
    }
   ],
   "source": [
    "\n",
    "import pandas as pd\n",
    "import altair as at\n",
    "at.data_transformers.disable_max_rows()\n",
    "\n",
    "def read_knmi_data(filename, names):\n",
    "    return pd.read_csv(filename, \n",
    "                       comment='#',               # Skip all comments\n",
    "                       header=None,               # The text file contains no header that can be read\n",
    "                       names=names,               # Set the column names\n",
    "                       skipinitialspace=True,     # Fix the trailing spaces after the ','-separator\n",
    "                       parse_dates=[1])           # Let pandas try and transform the second column to a proper datatime object\n",
    "\n",
    "knmi_data = read_knmi_data('KNMI_20200218.txt', \n",
    "                           names=['station', 'datum', 'Wsp_avg', 'Wsp_1hravg', 'Wsp_max', \n",
    "                                                      'T_avg', 'T_min', 'T_max', \n",
    "                                                      'Sol_duration', 'Global_radiation', 'Precip_total',\n",
    "                                                      'Precip_hrmax', 'Rel_humid', 'Evaporation'])\n",
    "knmi_data.head()"
   ]
  },
  {
   "cell_type": "code",
   "execution_count": 206,
   "metadata": {},
   "outputs": [],
   "source": []
  },
  {
   "cell_type": "markdown",
   "metadata": {},
   "source": [
    "### DeLUCS miss [total 4](https://drive.google.com/file/d/1PSZ_mhcrcZkt2JlWj6S-4rmYLKxkI_PA/view?usp=sharing)\n",
    "\n",
    "Olsenella_uli, Salmonella_bongori, Segniliparus_rotundus, Streptococcus_pyogenes"
   ]
  },
  {
   "cell_type": "code",
   "execution_count": 207,
   "metadata": {},
   "outputs": [],
   "source": []
  },
  {
   "cell_type": "markdown",
   "metadata": {},
   "source": [
    "### phyloFlash miss [total 4](https://docs.google.com/spreadsheets/d/1bfky2TWEFXRBDVJEu07mVmbjfhVjrO01BbkltOo915A/edit#gid=939002145)\n",
    "\n",
    "E.coli, Nocardiopsis_dassonvillei, Salmonella_bongori, Fervidobacterium_pennivorans"
   ]
  },
  {
   "cell_type": "code",
   "execution_count": 208,
   "metadata": {},
   "outputs": [],
   "source": []
  },
  {
   "cell_type": "markdown",
   "metadata": {},
   "source": [
    "# Custom upset plot"
   ]
  },
  {
   "cell_type": "code",
   "execution_count": 209,
   "metadata": {},
   "outputs": [],
   "source": []
  },
  {
   "cell_type": "code",
   "execution_count": 210,
   "metadata": {},
   "outputs": [],
   "source": []
  },
  {
   "cell_type": "code",
   "execution_count": 211,
   "metadata": {},
   "outputs": [],
   "source": []
  },
  {
   "cell_type": "code",
   "execution_count": 212,
   "metadata": {},
   "outputs": [],
   "source": []
  },
  {
   "cell_type": "code",
   "execution_count": 213,
   "metadata": {},
   "outputs": [
    {
     "data": {
      "text/html": [
       "\n",
       "<div id=\"altair-viz-17\"></div>\n",
       "<script type=\"text/javascript\">\n",
       "  (function(spec, embedOpt){\n",
       "    const outputDiv = document.getElementById(\"altair-viz-17\");\n",
       "    const paths = {\n",
       "      \"vega\": \"https://cdn.jsdelivr.net/npm//vega@5?noext\",\n",
       "      \"vega-lib\": \"https://cdn.jsdelivr.net/npm//vega-lib?noext\",\n",
       "      \"vega-lite\": \"https://cdn.jsdelivr.net/npm//vega-lite@4.0.0?noext\",\n",
       "      \"vega-embed\": \"https://cdn.jsdelivr.net/npm//vega-embed@6?noext\",\n",
       "    };\n",
       "\n",
       "    function loadScript(lib) {\n",
       "      return new Promise(function(resolve, reject) {\n",
       "        var s = document.createElement('script');\n",
       "        s.src = paths[lib];\n",
       "        s.async = true;\n",
       "        s.onload = () => resolve(paths[lib]);\n",
       "        s.onerror = () => reject(`Error loading script: ${paths[lib]}`);\n",
       "        document.getElementsByTagName(\"head\")[0].appendChild(s);\n",
       "      });\n",
       "    }\n",
       "\n",
       "    function showError(err) {\n",
       "      outputDiv.innerHTML = `<div class=\"error\" style=\"color:red;\">${err}</div>`;\n",
       "      throw err;\n",
       "    }\n",
       "\n",
       "    function displayChart(vegaEmbed) {\n",
       "      vegaEmbed(outputDiv, spec, embedOpt)\n",
       "        .catch(err => showError(`Javascript Error: ${err.message}<br>This usually means there's a typo in your chart specification. See the javascript console for the full traceback.`));\n",
       "    }\n",
       "\n",
       "    if(typeof define === \"function\" && define.amd) {\n",
       "      requirejs.config({paths});\n",
       "      require([\"vega-embed\"], displayChart, err => showError(`Error loading script: ${err.message}`));\n",
       "    } else if (typeof vegaEmbed === \"function\") {\n",
       "      displayChart(vegaEmbed);\n",
       "    } else {\n",
       "      loadScript(\"vega\")\n",
       "        .then(() => loadScript(\"vega-lite\"))\n",
       "        .then(() => loadScript(\"vega-embed\"))\n",
       "        .catch(showError)\n",
       "        .then(() => displayChart(vegaEmbed));\n",
       "    }\n",
       "  })({\"config\": {\"view\": {\"continuousWidth\": 400, \"continuousHeight\": 300, \"stroke\": null}, \"axis\": {\"labelFontSize\": 12, \"titleFontSize\": 23}, \"title\": {\"fontSize\": 25}}, \"vconcat\": [{\"hconcat\": [{\"layer\": [{\"mark\": {\"type\": \"bar\", \"color\": \"#303030\", \"size\": 40}, \"encoding\": {\"color\": {\"condition\": {\"value\": \"#303030\", \"selection\": {\"not\": \"selector040\"}}, \"value\": \"#09c372\"}, \"tooltip\": [{\"type\": \"quantitative\", \"field\": \"Mean Binned Cov\", \"title\": \"Size\"}], \"x\": {\"type\": \"nominal\", \"axis\": {\"domain\": true, \"grid\": false, \"labels\": false, \"ticks\": false}, \"field\": \"Species\", \"sort\": {\"field\": \"Whole Genome\", \"order\": \"descending\"}, \"title\": null}, \"y\": {\"type\": \"quantitative\", \"axis\": {\"grid\": false, \"orient\": \"left\", \"tickCount\": 10}, \"field\": \"Mean Binned Cov\", \"scale\": {\"domain\": [0, 20000], \"type\": \"symlog\"}, \"title\": null}}, \"height\": 480.0, \"selection\": {\"selector040\": {\"type\": \"multi\", \"on\": \"mouseover\", \"fields\": [\"Species\"]}}, \"title\": \"MBARC Coverage\", \"width\": 1700}, {\"mark\": {\"type\": \"text\", \"color\": \"#303030\", \"dy\": -10, \"fontWeight\": \"bold\", \"size\": 14}, \"encoding\": {\"color\": {\"condition\": {\"value\": \"#303030\", \"selection\": {\"not\": \"selector040\"}}, \"value\": \"#09c372\"}, \"text\": {\"type\": \"quantitative\", \"field\": \"Mean Binned Cov\"}, \"tooltip\": [{\"type\": \"quantitative\", \"field\": \"Mean Binned Cov\", \"title\": \"Size\"}], \"x\": {\"type\": \"nominal\", \"axis\": {\"domain\": true, \"grid\": false, \"labels\": false, \"ticks\": false}, \"field\": \"Species\", \"sort\": {\"field\": \"Whole Genome\", \"order\": \"descending\"}, \"title\": null}, \"y\": {\"type\": \"quantitative\", \"axis\": {\"grid\": false, \"orient\": \"left\", \"tickCount\": 10}, \"field\": \"Mean Binned Cov\", \"scale\": {\"domain\": [0, 20000], \"type\": \"symlog\"}, \"title\": null}}, \"height\": 480.0, \"title\": \"MBARC Coverage\", \"width\": 1700}, {\"mark\": {\"type\": \"line\", \"color\": \"#09c372\", \"opacity\": 1}, \"encoding\": {\"color\": {\"value\": \"#09c372\"}, \"tooltip\": [{\"type\": \"quantitative\", \"field\": \"Mean Binned Cov\", \"title\": \"Size\"}], \"x\": {\"type\": \"nominal\", \"axis\": {\"domain\": true, \"grid\": false, \"labels\": false, \"ticks\": false}, \"field\": \"Species\", \"sort\": {\"field\": \"Whole Genome\", \"order\": \"descending\"}, \"title\": null}, \"y\": {\"type\": \"quantitative\", \"field\": \"Avg Barrnap Cov\", \"scale\": {\"domain\": [0, 20000], \"type\": \"symlog\"}}}, \"height\": 480.0, \"title\": \"MBARC Coverage\", \"width\": 1700}, {\"mark\": {\"type\": \"text\", \"align\": \"center\", \"baseline\": \"middle\", \"color\": \"#303030\", \"dy\": -18, \"fontSize\": 13, \"fontWeight\": \"bold\", \"size\": 14}, \"encoding\": {\"color\": {\"value\": \"#09c372\"}, \"text\": {\"type\": \"quantitative\", \"field\": \"Avg Barrnap Cov\", \"format\": \".2f\"}, \"tooltip\": [{\"type\": \"quantitative\", \"field\": \"Mean Binned Cov\", \"title\": \"Size\"}], \"x\": {\"type\": \"nominal\", \"axis\": {\"domain\": true, \"grid\": false, \"labels\": false, \"ticks\": false}, \"field\": \"Species\", \"sort\": {\"field\": \"Whole Genome\", \"order\": \"descending\"}, \"title\": null}, \"y\": {\"type\": \"quantitative\", \"field\": \"Avg Barrnap Cov\", \"scale\": {\"domain\": [0, 20000], \"type\": \"symlog\"}}}, \"height\": 480.0, \"title\": \"MBARC Coverage\", \"width\": 1700}], \"data\": {\"name\": \"data-34d0e9490912b37f9b1861a7548ccb0e\"}}, {\"layer\": [{\"mark\": {\"type\": \"tick\", \"color\": \"black\", \"opacity\": 1, \"orient\": \"horizontal\", \"size\": 15, \"thickness\": 3}, \"encoding\": {\"color\": {\"value\": \"#09c372\"}, \"y\": {\"type\": \"nominal\", \"axis\": {\"labelFontSize\": 16, \"orient\": \"right\", \"titleAngle\": 0, \"titleFontSize\": 0, \"titleX\": 80, \"titleY\": -5}, \"field\": \"y\"}}}, {\"mark\": {\"type\": \"square\", \"color\": \"#303030\", \"size\": 200}, \"encoding\": {\"y\": {\"type\": \"nominal\", \"axis\": {\"labelFontSize\": 16, \"orient\": \"right\", \"titleAngle\": 0, \"titleFontSize\": 0, \"titleX\": 80, \"titleY\": -5}, \"field\": \"x\"}}}], \"data\": {\"name\": \"data-f4d281f3763c654cb67c7612fe423262\"}}]}, {\"layer\": [{\"mark\": {\"type\": \"circle\", \"opacity\": 1, \"size\": 200}, \"encoding\": {\"color\": {\"condition\": {\"type\": \"nominal\", \"field\": \"value\", \"legend\": null, \"scale\": {\"domain\": [0, 1], \"range\": [\"#E6E6E6\", \"#303030\"]}, \"selection\": {\"not\": \"selector041\"}}, \"value\": \"#09c372\"}, \"x\": {\"type\": \"nominal\", \"axis\": {\"domain\": false, \"grid\": false, \"labelFontSize\": 13, \"labelFontWeight\": \"normal\", \"ticks\": false}, \"field\": \"Species\", \"sort\": {\"field\": \"Whole Genome\", \"order\": \"descending\"}, \"title\": null}, \"y\": {\"type\": \"nominal\", \"axis\": {\"domain\": false, \"grid\": false, \"labelFontWeight\": \"bold\", \"orient\": \"right\", \"ticks\": false}, \"field\": \"key\", \"title\": null}}, \"height\": 128.0, \"selection\": {\"selector040\": {\"type\": \"multi\", \"on\": \"mouseover\", \"fields\": [\"Species\"]}, \"selector041\": {\"type\": \"multi\", \"on\": \"mouseover\", \"fields\": [\"Species\", \"value\"]}}, \"transform\": [{\"fold\": [\"phyloFlash hit\", \"DeLUCS hit\"]}], \"width\": 1700}, {\"mark\": \"rect\", \"encoding\": {\"color\": {\"value\": \"#F7F7F7\"}, \"x\": {\"type\": \"nominal\", \"axis\": {\"domain\": false, \"grid\": false, \"labelFontSize\": 13, \"labelFontWeight\": \"normal\", \"ticks\": false}, \"field\": \"Species\", \"sort\": {\"field\": \"Whole Genome\", \"order\": \"descending\"}, \"title\": null}, \"y\": {\"type\": \"nominal\", \"axis\": {\"domain\": false, \"grid\": false, \"labelFontWeight\": \"bold\", \"orient\": \"right\", \"ticks\": false}, \"field\": \"key\", \"title\": null}}, \"height\": 128.0, \"transform\": [{\"fold\": [\"phyloFlash hit\", \"DeLUCS hit\"]}, {\"filter\": \"(datum.key === 'DeLUCS hit')\"}], \"width\": 1700}, {\"mark\": {\"type\": \"circle\", \"opacity\": 1, \"size\": 200}, \"encoding\": {\"color\": {\"condition\": {\"type\": \"nominal\", \"field\": \"value\", \"legend\": null, \"scale\": {\"domain\": [0, 1], \"range\": [\"#E6E6E6\", \"#303030\"]}, \"selection\": {\"not\": \"selector041\"}}, \"value\": \"#09c372\"}, \"x\": {\"type\": \"nominal\", \"axis\": {\"domain\": false, \"grid\": false, \"labelFontSize\": 13, \"labelFontWeight\": \"normal\", \"ticks\": false}, \"field\": \"Species\", \"sort\": {\"field\": \"Whole Genome\", \"order\": \"descending\"}, \"title\": null}, \"y\": {\"type\": \"nominal\", \"axis\": {\"domain\": false, \"grid\": false, \"labelFontWeight\": \"bold\", \"orient\": \"right\", \"ticks\": false}, \"field\": \"key\", \"title\": null}}, \"height\": 128.0, \"transform\": [{\"fold\": [\"phyloFlash hit\", \"DeLUCS hit\"]}], \"width\": 1700}, {\"mark\": {\"type\": \"circle\", \"opacity\": 1, \"size\": 230}, \"encoding\": {\"color\": {\"value\": \"#E6E6E6\"}, \"x\": {\"type\": \"nominal\", \"axis\": {\"domain\": false, \"grid\": false, \"labelFontSize\": 13, \"labelFontWeight\": \"normal\", \"ticks\": false}, \"field\": \"Species\", \"sort\": {\"field\": \"Whole Genome\", \"order\": \"descending\"}, \"title\": null}, \"y\": {\"type\": \"nominal\", \"axis\": {\"domain\": false, \"grid\": false, \"labelFontWeight\": \"bold\", \"orient\": \"right\", \"ticks\": false}, \"field\": \"key\", \"title\": null}}, \"height\": 128.0, \"transform\": [{\"fold\": [\"phyloFlash hit\", \"DeLUCS hit\"]}, {\"filter\": \"(datum['value'] === 0)\"}], \"width\": 1700}], \"data\": {\"name\": \"data-34d0e9490912b37f9b1861a7548ccb0e\"}}], \"$schema\": \"https://vega.github.io/schema/vega-lite/v4.0.0.json\", \"datasets\": {\"data-34d0e9490912b37f9b1861a7548ccb0e\": [{\"Species\": \"Fervidobacterium pennivorans\", \"Mean Binned Cov\": 1352.4715, \"Avg Barrnap Cov\": 3570.00465, \"phyloFlash hit\": 0, \"DeLUCS hit\": 1}, {\"Species\": \"Desulfosporosinus acidiphilus\", \"Mean Binned Cov\": 805.3675, \"Avg Barrnap Cov\": 10702.99045, \"phyloFlash hit\": 1, \"DeLUCS hit\": 1}, {\"Species\": \"Spirochaeta smaragdinae\", \"Mean Binned Cov\": 623.5855, \"Avg Barrnap Cov\": 6043.5318, \"phyloFlash hit\": 1, \"DeLUCS hit\": 1}, {\"Species\": \"Meiothermus silvanus\", \"Mean Binned Cov\": 616.9535, \"Avg Barrnap Cov\": 6159.9463, \"phyloFlash hit\": 1, \"DeLUCS hit\": 1}, {\"Species\": \"Hirschia baltica\", \"Mean Binned Cov\": 587.0685, \"Avg Barrnap Cov\": 6068.70405, \"phyloFlash hit\": 1, \"DeLUCS hit\": 1}, {\"Species\": \"Thermobacillus composti\", \"Mean Binned Cov\": 525.915, \"Avg Barrnap Cov\": 7553.06865, \"phyloFlash hit\": 1, \"DeLUCS hit\": 1}, {\"Species\": \"Desulfotomaculum gibsoniae\", \"Mean Binned Cov\": 374.9885, \"Avg Barrnap Cov\": 6704.18345, \"phyloFlash hit\": 1, \"DeLUCS hit\": 1}, {\"Species\": \"Frateuria aurantia\", \"Mean Binned Cov\": 288.41, \"Avg Barrnap Cov\": 8239.41665, \"phyloFlash hit\": 1, \"DeLUCS hit\": 1}, {\"Species\": \"Olsenella uli\", \"Mean Binned Cov\": 285.9935, \"Avg Barrnap Cov\": 5974.50465, \"phyloFlash hit\": 1, \"DeLUCS hit\": 0}, {\"Species\": \"Desulfosporosinus meridiei\", \"Mean Binned Cov\": 268.9395, \"Avg Barrnap Cov\": 8882.7147, \"phyloFlash hit\": 1, \"DeLUCS hit\": 1}, {\"Species\": \"Natronococcus occultus\", \"Mean Binned Cov\": 235.329, \"Avg Barrnap Cov\": 1864.7698, \"phyloFlash hit\": 1, \"DeLUCS hit\": 1}, {\"Species\": \"Coraliomargarita akajimensis\", \"Mean Binned Cov\": 232.104, \"Avg Barrnap Cov\": 3456.7263, \"phyloFlash hit\": 1, \"DeLUCS hit\": 1}, {\"Species\": \"Natronobacterium gregoryi\", \"Mean Binned Cov\": 204.67, \"Avg Barrnap Cov\": 1910.5622, \"phyloFlash hit\": 1, \"DeLUCS hit\": 1}, {\"Species\": \"Halovivax ruber\", \"Mean Binned Cov\": 166.595, \"Avg Barrnap Cov\": 1936.0515, \"phyloFlash hit\": 1, \"DeLUCS hit\": 1}, {\"Species\": \"Terriglobus roseus\", \"Mean Binned Cov\": 122.145, \"Avg Barrnap Cov\": 6880.63285, \"phyloFlash hit\": 1, \"DeLUCS hit\": 1}, {\"Species\": \"Segniliparus rotundus\", \"Mean Binned Cov\": 119.615, \"Avg Barrnap Cov\": 6988.27065, \"phyloFlash hit\": 1, \"DeLUCS hit\": 0}, {\"Species\": \"Pseudomonas stutzeri\", \"Mean Binned Cov\": 96.776, \"Avg Barrnap Cov\": 8363.8864, \"phyloFlash hit\": 1, \"DeLUCS hit\": 1}, {\"Species\": \"Streptococcus pyogenes\", \"Mean Binned Cov\": 76.805, \"Avg Barrnap Cov\": 9421.74145, \"phyloFlash hit\": 1, \"DeLUCS hit\": 0}, {\"Species\": \"Clostridium perfringens\", \"Mean Binned Cov\": 43.6315, \"Avg Barrnap Cov\": 8462.1927, \"phyloFlash hit\": 1, \"DeLUCS hit\": 1}, {\"Species\": \"Salmonella enterica subsp. arizonae serovar\", \"Mean Binned Cov\": 42.0875, \"Avg Barrnap Cov\": 3540.7461, \"phyloFlash hit\": 1, \"DeLUCS hit\": 1}, {\"Species\": \"Clostridium thermocellum\", \"Mean Binned Cov\": 39.235, \"Avg Barrnap Cov\": 10281.34535, \"phyloFlash hit\": 1, \"DeLUCS hit\": 1}, {\"Species\": \"Salmonella bongori\", \"Mean Binned Cov\": 36.221, \"Avg Barrnap Cov\": 5025.2991, \"phyloFlash hit\": 0, \"DeLUCS hit\": 0}, {\"Species\": \"Echinicola vietnamensis\", \"Mean Binned Cov\": 30.3545, \"Avg Barrnap Cov\": 4628.7747, \"phyloFlash hit\": 1, \"DeLUCS hit\": 1}, {\"Species\": \"Corynebacterium glutamicum\", \"Mean Binned Cov\": 30.1775, \"Avg Barrnap Cov\": 6862.89155, \"phyloFlash hit\": 1, \"DeLUCS hit\": 1}, {\"Species\": \"E.coli\", \"Mean Binned Cov\": 24.345, \"Avg Barrnap Cov\": 1127.52105, \"phyloFlash hit\": 0, \"DeLUCS hit\": 1}, {\"Species\": \"Nocardiopsis dassonvillei\", \"Mean Binned Cov\": 4.2015, \"Avg Barrnap Cov\": 5684.0052, \"phyloFlash hit\": 0, \"DeLUCS hit\": 1}], \"data-f4d281f3763c654cb67c7612fe423262\": [{\"y\": \"Avg Barrnap Cov\", \"x\": \"Mean Binned Cov\"}]}}, {\"mode\": \"vega-lite\"});\n",
       "</script>"
      ],
      "text/plain": [
       "alt.VConcatChart(...)"
      ]
     },
     "execution_count": 213,
     "metadata": {},
     "output_type": "execute_result"
    }
   ],
   "source": []
  },
  {
   "cell_type": "code",
   "execution_count": null,
   "metadata": {},
   "outputs": [],
   "source": []
  },
  {
   "cell_type": "code",
   "execution_count": null,
   "metadata": {},
   "outputs": [],
   "source": []
  },
  {
   "cell_type": "code",
   "execution_count": null,
   "metadata": {},
   "outputs": [],
   "source": []
  }
 ],
 "metadata": {
  "kernelspec": {
   "display_name": "Python 3 (ipykernel)",
   "language": "python",
   "name": "python3"
  },
  "language_info": {
   "codemirror_mode": {
    "name": "ipython",
    "version": 3
   },
   "file_extension": ".py",
   "mimetype": "text/x-python",
   "name": "python",
   "nbconvert_exporter": "python",
   "pygments_lexer": "ipython3",
   "version": "3.10.5"
  },
  "vscode": {
   "interpreter": {
    "hash": "d5822147d25398cc109c1bdf54eb1ee7a6c0faef180858af0c55c5362b83b772"
   }
  }
 },
 "nbformat": 4,
 "nbformat_minor": 2
}
